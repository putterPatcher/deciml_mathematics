{
 "cells": [
  {
   "cell_type": "code",
   "execution_count": 1,
   "id": "4bc7a4ed-eb34-4c17-8eda-6e2ac6c76bdf",
   "metadata": {},
   "outputs": [
    {
     "name": "stdout",
     "output_type": "stream",
     "text": [
      "Imported deciml...\n"
     ]
    }
   ],
   "source": [
    "from deciml_maths.matrix import matx"
   ]
  },
  {
   "cell_type": "code",
   "execution_count": null,
   "id": "3348f12a-a380-46d0-ac20-f09e7413b371",
   "metadata": {},
   "outputs": [],
   "source": [
    "matx([12.123 for _ in range(1000)])"
   ]
  },
  {
   "cell_type": "code",
   "execution_count": null,
   "id": "7efbc5e9-ea2f-4916-971c-10ba656da95e",
   "metadata": {},
   "outputs": [],
   "source": []
  }
 ],
 "metadata": {
  "kernelspec": {
   "display_name": "Python 3 (ipykernel)",
   "language": "python",
   "name": "python3"
  },
  "language_info": {
   "codemirror_mode": {
    "name": "ipython",
    "version": 3
   },
   "file_extension": ".py",
   "mimetype": "text/x-python",
   "name": "python",
   "nbconvert_exporter": "python",
   "pygments_lexer": "ipython3",
   "version": "3.12.3"
  }
 },
 "nbformat": 4,
 "nbformat_minor": 5
}
